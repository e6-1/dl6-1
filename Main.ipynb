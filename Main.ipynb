{
 "cells": [
  {
   "cell_type": "code",
   "execution_count": 50,
   "metadata": {
    "collapsed": true
   },
   "outputs": [],
   "source": [
    "import numpy as np\n",
    "import matplotlib.pylab as pylab\n",
    "import imageio\n",
    "import pandas as pd"
   ]
  },
  {
   "cell_type": "code",
   "execution_count": 51,
   "metadata": {
    "collapsed": false
   },
   "outputs": [],
   "source": [
    "videoFile = './data/driving.avi'\n",
    "vid = imageio.get_reader(videoFile,  'ffmpeg')\n",
    "\n",
    "dataFile = './data/actions.csv'\n",
    "df = pd.read_csv(dataFile, delimiter='\\t')"
   ]
  },
  {
   "cell_type": "code",
   "execution_count": 52,
   "metadata": {
    "collapsed": false
   },
   "outputs": [],
   "source": [
    "for index, row in df.iterrows():\n",
    "    if frame > 10000:\n",
    "        break\n",
    "\n",
    "    frame = row['Frame']\n",
    "    gaze_x = row['GazeX']\n",
    "    gaze_y = row['GazeY']\n",
    "    \n",
    "    image = vid.get_data(frame)\n",
    "    fig = pylab.figure()\n",
    "    pylab.imshow(image)\n",
    "    \n",
    "    this_glimpse = glimpse(image, gaze_x, gaze_y)\n",
    "    pylab.imshow(this_glimpse)\n",
    "    \n",
    "pylab.show()"
   ]
  },
  {
   "cell_type": "code",
   "execution_count": 53,
   "metadata": {
    "collapsed": false
   },
   "outputs": [],
   "source": [
    "def glimpse(image, x, y, stride=14):\n",
    "    \"\"\"Returns a subsection of the image centered on the given point.\"\"\"\n",
    "    x = int(x)\n",
    "    y = int(y)\n",
    "    min_x = x - stride\n",
    "    max_x = x + stride\n",
    "    \n",
    "    min_y = y - stride\n",
    "    max_y = y + stride\n",
    "    image_glimpse = image[min_y:max_y, min_x:max_x, :]  # NOTE: row, column, RGB\n",
    "    return image_glimpse"
   ]
  },
  {
   "cell_type": "code",
   "execution_count": null,
   "metadata": {
    "collapsed": true
   },
   "outputs": [],
   "source": []
  }
 ],
 "metadata": {
  "kernelspec": {
   "display_name": "Python 3",
   "language": "python",
   "name": "python3"
  },
  "language_info": {
   "codemirror_mode": {
    "name": "ipython",
    "version": 3
   },
   "file_extension": ".py",
   "mimetype": "text/x-python",
   "name": "python",
   "nbconvert_exporter": "python",
   "pygments_lexer": "ipython3",
   "version": "3.5.2"
  }
 },
 "nbformat": 4,
 "nbformat_minor": 1
}
