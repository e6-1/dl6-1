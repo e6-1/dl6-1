{
 "cells": [
  {
   "cell_type": "code",
   "execution_count": 4,
   "metadata": {
    "collapsed": true
   },
   "outputs": [],
   "source": [
    "import helpers as hp\n",
    "import tensorflow as tf\n",
    "import AutoBrake as ab"
   ]
  },
  {
   "cell_type": "code",
   "execution_count": 5,
   "metadata": {
    "collapsed": false
   },
   "outputs": [],
   "source": [
    "data = hp.get_data()\n",
    "training_inds, test_inds = hp.get_train_test_split(70000, 10000)"
   ]
  },
  {
   "cell_type": "code",
   "execution_count": null,
   "metadata": {
    "collapsed": false
   },
   "outputs": [
    {
     "name": "stdout",
     "output_type": "stream",
     "text": [
      "Restored model to full power...\n",
      "\tCross-entropy: 11.287\tAccuracy: 0.510\n",
      "(Epoch 1) Batches: 7\n",
      "\tProcessing batch 1\n",
      "\tProcessing batch 2\n",
      "\tProcessing batch 3\n"
     ]
    }
   ],
   "source": [
    "with tf.Graph().as_default():\n",
    "    test_glimpses = data['input_glimpses'][test_inds, :, :, :1]\n",
    "    test_gazes = data['input_gazes'][test_inds]\n",
    "    test_seq = data['input_sequences'][test_inds]\n",
    "    test_output = data['outputs'][test_inds]\n",
    "\n",
    "    CONVNET_FILE_NAME = \"model/convnet_.ckpt\"\n",
    "    \n",
    "    with tf.Session() as sess:\n",
    "        # Define ops\n",
    "        infer_op = ab.inference()\n",
    "        loss_op = ab.loss(infer_op)\n",
    "        train_op = ab.train(infer_op)\n",
    "        acc_op = ab.accuracy(infer_op)\n",
    "        \n",
    "        init = tf.initialize_all_variables()\n",
    "        sess.run(init)\n",
    "        saver = tf.train.Saver()\n",
    "    #     ops = sess.graph.get_operations()\n",
    "    #     for op in ops:\n",
    "    #         print(op.values())\n",
    "    #     te = tf.report_uninitialized_variables()\n",
    "    #     tes = sess.run(te)\n",
    "        saver.restore(sess, CONVNET_FILE_NAME)\n",
    "        print(\"Restored model to full power...\")\n",
    "        loss, acc = sess.run([loss_op, acc_op],\n",
    "                             feed_dict=\n",
    "                                 {\n",
    "                                    \"images:0\": test_glimpses,\n",
    "                                    \"gazes:0\": test_gazes,\n",
    "                                    \"brake_sequences:0\": test_seq,\n",
    "                                    \"expected_braking:0\": test_output\n",
    "                                }\n",
    "                            )\n",
    "        print(\"\\tCross-entropy: {:.3f}\\tAccuracy: {:.3f}\".format(loss, acc))\n",
    "        for epoch in range(100):\n",
    "            batches = hp.minibatch(training_inds, 10000, len(training_inds))\n",
    "            print(\"(Epoch {0}) Batches: {1}\".format(epoch + 1, len(batches)))\n",
    "            for batch_num, index_batch in enumerate(batches):\n",
    "                print(\"\\tProcessing batch {0}\".format(batch_num + 1))\n",
    "                glimpses = data['input_glimpses'][index_batch, :, :, :1]\n",
    "                gazes = data['input_gazes'][index_batch]\n",
    "                seq = data['input_sequences'][index_batch]\n",
    "                output = data['outputs'][index_batch]\n",
    "\n",
    "                sess.run(train_op,\n",
    "                         feed_dict=\n",
    "                             {\n",
    "                                \"images:0\": glimpses,\n",
    "                                \"gazes:0\": gazes,\n",
    "                                \"brake_sequences:0\": seq,\n",
    "                                \"expected_braking:0\": output\n",
    "                            }\n",
    "                    )\n",
    "            \n",
    "            loss, acc = sess.run([loss_op, acc_op],\n",
    "                         feed_dict=\n",
    "                             {\n",
    "                                \"images:0\": test_glimpses,\n",
    "                                \"gazes:0\": test_gazes,\n",
    "                                \"brake_sequences:0\": test_seq,\n",
    "                                \"expected_braking:0\": test_output\n",
    "                            }\n",
    "                        )\n",
    "            print(\"\\tCross-entropy: {:.3f}\\tAccuracy: {:.3f}\".format(loss, acc))\n",
    "            \n",
    "            save_path = saver.save(sess, CONVNET_FILE_NAME)\n",
    "            print(\"\\tModel saved in file: %s\" % save_path)"
   ]
  },
  {
   "cell_type": "code",
   "execution_count": null,
   "metadata": {
    "collapsed": true
   },
   "outputs": [],
   "source": []
  }
 ],
 "metadata": {
  "kernelspec": {
   "display_name": "Python 3",
   "language": "python",
   "name": "python3"
  },
  "language_info": {
   "codemirror_mode": {
    "name": "ipython",
    "version": 3
   },
   "file_extension": ".py",
   "mimetype": "text/x-python",
   "name": "python",
   "nbconvert_exporter": "python",
   "pygments_lexer": "ipython3",
   "version": "3.5.2"
  }
 },
 "nbformat": 4,
 "nbformat_minor": 1
}
