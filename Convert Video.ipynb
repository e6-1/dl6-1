{
 "cells": [
  {
   "cell_type": "code",
   "execution_count": 1,
   "metadata": {
    "collapsed": true
   },
   "outputs": [],
   "source": [
    "import imageio\n",
    "from imageio.core.util import asarray as imgToArr\n",
    "import matplotlib.pylab as pylab\n",
    "import numpy as np\n",
    "import pandas as pd"
   ]
  },
  {
   "cell_type": "code",
   "execution_count": 2,
   "metadata": {
    "collapsed": false
   },
   "outputs": [],
   "source": [
    "# Columns: Frame, Brake, GazeX, GazeY\n",
    "dataFile = './data/cleaned_data.csv'\n",
    "df = pd.read_csv(dataFile, delimiter='\\t')\n",
    "\n",
    "brake = df[df['Brake'] > 0]\n",
    "nonbrake = df[df['Brake'] == 0]\n",
    "nonbrake = nonbrake[:len(brake)]  # Braking is far fewer than nonbraking, so trim down\n",
    "df = pd.concat([brake, nonbrake])\n",
    "df = df.drop(df[df['GazeX'] < 0].index)\n",
    "df = df.drop(df[df['GazeY'] < 0].index)\n",
    "df = df.dropna()\n",
    "df = df.reset_index(drop=True)  # Resets the index to the usual 0, 1, 2, ..."
   ]
  },
  {
   "cell_type": "code",
   "execution_count": 3,
   "metadata": {
    "collapsed": true
   },
   "outputs": [],
   "source": [
    "def get_glimpse(image, x, y, stride=14):\n",
    "    \"\"\"Returns a subsection (glimpse) of the image centered on the given point.\"\"\"\n",
    "    x = int(x)  # Force to int\n",
    "    y = int(y)  # Force to int\n",
    "    min_x = x - stride\n",
    "    max_x = x + stride\n",
    "    \n",
    "    min_y = y - stride\n",
    "    max_y = y + stride\n",
    "    image_glimpse = image[min_y:max_y, min_x:max_x, :]  # NOTE: row, column, RGB\n",
    "#     image_glimpse = image[min_y:max_y, min_x:max_x, 0]  # NOTE: row, column, RGB; everything is greyscale; flatten RGB layer\n",
    "    return imgToArr(image_glimpse)"
   ]
  },
  {
   "cell_type": "code",
   "execution_count": 4,
   "metadata": {
    "collapsed": false
   },
   "outputs": [
    {
     "name": "stdout",
     "output_type": "stream",
     "text": [
      "processed: 10000\n",
      "(10000, 28, 28, 3)\n",
      "(10000, 2)\n",
      "(10000, 2)\n",
      "Saved data/glimpse_batchc_1\n",
      "processed: 10000\n",
      "(10000, 28, 28, 3)\n",
      "(10000, 2)\n",
      "(10000, 2)\n",
      "Saved data/glimpse_batchc_2\n",
      "processed: 10000\n",
      "(10000, 28, 28, 3)\n",
      "(10000, 2)\n",
      "(10000, 2)\n",
      "Saved data/glimpse_batchc_3\n",
      "processed: 10000\n",
      "(10000, 28, 28, 3)\n",
      "(10000, 2)\n",
      "(10000, 2)\n",
      "Saved data/glimpse_batchc_4\n",
      "processed: 10000\n",
      "(10000, 28, 28, 3)\n",
      "(10000, 2)\n",
      "(10000, 2)\n",
      "Saved data/glimpse_batchc_5\n",
      "processed: 10000\n",
      "(10000, 28, 28, 3)\n",
      "(10000, 2)\n",
      "(10000, 2)\n",
      "Saved data/glimpse_batchc_6\n",
      "processed: 10000\n",
      "(10000, 28, 28, 3)\n",
      "(10000, 2)\n",
      "(10000, 2)\n",
      "Saved data/glimpse_batchc_7\n",
      "processed: 10000\n",
      "(10000, 28, 28, 3)\n",
      "(10000, 2)\n",
      "(10000, 2)\n",
      "Saved data/glimpse_batchc_8\n"
     ]
    }
   ],
   "source": [
    "filename = 'data/driving.avi'\n",
    "vid = imageio.get_reader(filename,  'ffmpeg')\n",
    "batch = 1\n",
    "count = 1\n",
    "frames = np.zeros((10000, 28, 28, 3))\n",
    "gazes = np.zeros((10000, 2))\n",
    "braking = np.zeros((10000, 2))\n",
    "for i, row in df.iterrows():\n",
    "    frame = row['Frame']\n",
    "    x = row['GazeX']\n",
    "    y = row['GazeY']\n",
    "    brake = row['Brake']\n",
    "    \n",
    "    image = vid.get_data(frame)\n",
    "    glimpse = get_glimpse(image, x, y)\n",
    "    if glimpse.shape != (28, 28, 3):\n",
    "        continue\n",
    "    frames[count] = glimpse\n",
    "    gazes[count] = np.array([x, y])\n",
    "    if brake == 0:\n",
    "        braking[count] = np.array([1, 0])  # nonbraking on left\n",
    "    else:\n",
    "        braking[count] = np.array([0, 1])  # braking on right\n",
    "    count += 1\n",
    "    if count % 10000 == 0:\n",
    "        print(\"processed: {0}\".format(count))\n",
    "\n",
    "        frames = np.array(frames)\n",
    "        print(frames.shape)\n",
    "        print(gazes.shape)\n",
    "        print(braking.shape)\n",
    "        SAVE_FILE_NAME = 'data/glimpse_batchc_{0}'.format(batch)\n",
    "        np.savez_compressed(SAVE_FILE_NAME, frames=frames, gazes=gazes, braking=braking)\n",
    "        print(\"Saved \" + SAVE_FILE_NAME)\n",
    "\n",
    "        # Reset\n",
    "        batch += 1\n",
    "        count = 1\n",
    "        frames = np.zeros((10000, 28, 28, 3))\n",
    "        gazes = np.zeros((10000, 2))"
   ]
  }
 ],
 "metadata": {
  "kernelspec": {
   "display_name": "Python 3",
   "language": "python",
   "name": "python3"
  },
  "language_info": {
   "codemirror_mode": {
    "name": "ipython",
    "version": 3
   },
   "file_extension": ".py",
   "mimetype": "text/x-python",
   "name": "python",
   "nbconvert_exporter": "python",
   "pygments_lexer": "ipython3",
   "version": "3.5.2"
  }
 },
 "nbformat": 4,
 "nbformat_minor": 1
}
